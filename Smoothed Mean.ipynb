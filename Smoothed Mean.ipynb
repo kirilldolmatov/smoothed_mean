{
 "cells": [
  {
   "cell_type": "code",
   "execution_count": 1,
   "metadata": {
    "collapsed": true
   },
   "outputs": [],
   "source": [
    "import pandas as pd\n",
    "import numpy as np\n",
    "np.random.seed(42)"
   ]
  },
  {
   "cell_type": "code",
   "execution_count": 2,
   "metadata": {
    "collapsed": true
   },
   "outputs": [],
   "source": [
    "def smoothed_mean(X, y, kf, alpha, global_mean=None, columns=None):\n",
    "\n",
    "    if global_mean is None:\n",
    "        global_mean = np.mean(y)\n",
    "        \n",
    "    if columns is None:\n",
    "        columns = X.columns\n",
    "    \n",
    "    unic_values_X = {}\n",
    "    for column in columns:\n",
    "        X[column + '_agr'] = np.NaN\n",
    "        unic_values_X[column] = set(X[column])\n",
    "            \n",
    "    \n",
    "    for train_indexes, fill_indexes in kf.split(X, y):\n",
    "        for column in columns:\n",
    "            for value in unic_values_X[column]:\n",
    "                slice_train = X.ix[train_indexes][column] == value\n",
    "                n_rows = slice_train.sum()\n",
    "                mean_y = 0\n",
    "                if n_rows > 0:\n",
    "                    mean_y = y[slice_train[slice_train].index].mean()\n",
    "                smoothed_mean = (mean_y * n_rows + global_mean * alpha) / (n_rows + alpha)\n",
    "                \n",
    "                slice_fill = X.ix[fill_indexes][column] == value\n",
    "                slice_fill_indexes = slice_fill[slice_fill].index\n",
    "                X.loc[slice_fill_indexes, column + '_agr'] = smoothed_mean\n",
    "    return X"
   ]
  },
  {
   "cell_type": "code",
   "execution_count": 3,
   "metadata": {
    "collapsed": false
   },
   "outputs": [],
   "source": [
    "number_rows = 10\n",
    "train_X = pd.DataFrame(np.random.randint(low=10, size=(number_rows,5)), columns=['a', 'b', 'c', 'd', 'e'])\n",
    "train_y = np.random.binomial(1, 0.7, number_rows)\n",
    "\n",
    "test_X = pd.DataFrame(np.random.randint(low=10, size=(number_rows,5)), columns=['a', 'b', 'c', 'd', 'e'])\n",
    "test_y = np.random.binomial(1, 0.7, number_rows)"
   ]
  },
  {
   "cell_type": "code",
   "execution_count": 4,
   "metadata": {
    "collapsed": false
   },
   "outputs": [],
   "source": [
    "alpha = 10\n",
    "global_mean = train_y.mean()\n",
    "columns = ['c', 'a']\n",
    "\n",
    "from sklearn.model_selection import KFold\n",
    "kf = KFold(n_splits=5, shuffle=True, random_state=42)\n",
    "kf_fill = KFold(n_splits=3, shuffle=True, random_state=42)\n",
    "for train_index, test_index in kf.split(train_X, train_y):\n",
    "    \n",
    "    X_train_new = smoothed_mean(X=train_X.ix[train_index], \n",
    "                                y=train_y[train_index], \n",
    "                                kf=kf_fill,\n",
    "                                alpha=alpha, \n",
    "                                global_mean=global_mean)\n",
    "    break\n",
    "    \n",
    "    \"\"\"\n",
    "    print('train_X \\n', train_X.ix[train_index])\n",
    "    print('------')\n",
    "    print('train_y \\n', train_y[train_index])\n",
    "    print('------')\n",
    "    print('test_X \\n', train_X.ix[test_index])\n",
    "    print('------')\n",
    "    print('test_y \\n', train_y[test_index])\n",
    "    print('---------------------------------------------------')\n",
    "    \"\"\"\n",
    "    "
   ]
  },
  {
   "cell_type": "code",
   "execution_count": 6,
   "metadata": {
    "collapsed": false
   },
   "outputs": [
    {
     "data": {
      "text/html": [
       "<div>\n",
       "<table border=\"1\" class=\"dataframe\">\n",
       "  <thead>\n",
       "    <tr style=\"text-align: right;\">\n",
       "      <th></th>\n",
       "      <th>a</th>\n",
       "      <th>b</th>\n",
       "      <th>c</th>\n",
       "      <th>d</th>\n",
       "      <th>e</th>\n",
       "      <th>a_agr</th>\n",
       "      <th>b_agr</th>\n",
       "      <th>c_agr</th>\n",
       "      <th>d_agr</th>\n",
       "      <th>e_agr</th>\n",
       "    </tr>\n",
       "  </thead>\n",
       "  <tbody>\n",
       "    <tr>\n",
       "      <th>0</th>\n",
       "      <td>6</td>\n",
       "      <td>3</td>\n",
       "      <td>7</td>\n",
       "      <td>4</td>\n",
       "      <td>6</td>\n",
       "      <td>0.700000</td>\n",
       "      <td>0.7</td>\n",
       "      <td>0.75</td>\n",
       "      <td>0.700000</td>\n",
       "      <td>0.727273</td>\n",
       "    </tr>\n",
       "    <tr>\n",
       "      <th>2</th>\n",
       "      <td>3</td>\n",
       "      <td>7</td>\n",
       "      <td>7</td>\n",
       "      <td>2</td>\n",
       "      <td>5</td>\n",
       "      <td>0.700000</td>\n",
       "      <td>0.7</td>\n",
       "      <td>0.75</td>\n",
       "      <td>0.727273</td>\n",
       "      <td>0.700000</td>\n",
       "    </tr>\n",
       "    <tr>\n",
       "      <th>3</th>\n",
       "      <td>4</td>\n",
       "      <td>1</td>\n",
       "      <td>7</td>\n",
       "      <td>5</td>\n",
       "      <td>1</td>\n",
       "      <td>0.666667</td>\n",
       "      <td>0.7</td>\n",
       "      <td>0.75</td>\n",
       "      <td>0.727273</td>\n",
       "      <td>0.700000</td>\n",
       "    </tr>\n",
       "    <tr>\n",
       "      <th>4</th>\n",
       "      <td>4</td>\n",
       "      <td>0</td>\n",
       "      <td>9</td>\n",
       "      <td>5</td>\n",
       "      <td>8</td>\n",
       "      <td>0.727273</td>\n",
       "      <td>0.7</td>\n",
       "      <td>0.70</td>\n",
       "      <td>0.727273</td>\n",
       "      <td>0.700000</td>\n",
       "    </tr>\n",
       "    <tr>\n",
       "      <th>5</th>\n",
       "      <td>0</td>\n",
       "      <td>9</td>\n",
       "      <td>2</td>\n",
       "      <td>6</td>\n",
       "      <td>3</td>\n",
       "      <td>0.700000</td>\n",
       "      <td>0.7</td>\n",
       "      <td>0.70</td>\n",
       "      <td>0.700000</td>\n",
       "      <td>0.636364</td>\n",
       "    </tr>\n",
       "    <tr>\n",
       "      <th>6</th>\n",
       "      <td>8</td>\n",
       "      <td>2</td>\n",
       "      <td>4</td>\n",
       "      <td>2</td>\n",
       "      <td>6</td>\n",
       "      <td>0.700000</td>\n",
       "      <td>0.7</td>\n",
       "      <td>0.70</td>\n",
       "      <td>0.727273</td>\n",
       "      <td>0.727273</td>\n",
       "    </tr>\n",
       "    <tr>\n",
       "      <th>7</th>\n",
       "      <td>4</td>\n",
       "      <td>8</td>\n",
       "      <td>6</td>\n",
       "      <td>1</td>\n",
       "      <td>3</td>\n",
       "      <td>0.727273</td>\n",
       "      <td>0.7</td>\n",
       "      <td>0.70</td>\n",
       "      <td>0.700000</td>\n",
       "      <td>0.727273</td>\n",
       "    </tr>\n",
       "    <tr>\n",
       "      <th>9</th>\n",
       "      <td>4</td>\n",
       "      <td>1</td>\n",
       "      <td>3</td>\n",
       "      <td>6</td>\n",
       "      <td>7</td>\n",
       "      <td>NaN</td>\n",
       "      <td>NaN</td>\n",
       "      <td>NaN</td>\n",
       "      <td>NaN</td>\n",
       "      <td>NaN</td>\n",
       "    </tr>\n",
       "  </tbody>\n",
       "</table>\n",
       "</div>"
      ],
      "text/plain": [
       "   a  b  c  d  e     a_agr  b_agr  c_agr     d_agr     e_agr\n",
       "0  6  3  7  4  6  0.700000    0.7   0.75  0.700000  0.727273\n",
       "2  3  7  7  2  5  0.700000    0.7   0.75  0.727273  0.700000\n",
       "3  4  1  7  5  1  0.666667    0.7   0.75  0.727273  0.700000\n",
       "4  4  0  9  5  8  0.727273    0.7   0.70  0.727273  0.700000\n",
       "5  0  9  2  6  3  0.700000    0.7   0.70  0.700000  0.636364\n",
       "6  8  2  4  2  6  0.700000    0.7   0.70  0.727273  0.727273\n",
       "7  4  8  6  1  3  0.727273    0.7   0.70  0.700000  0.727273\n",
       "9  4  1  3  6  7       NaN    NaN    NaN       NaN       NaN"
      ]
     },
     "execution_count": 6,
     "metadata": {},
     "output_type": "execute_result"
    }
   ],
   "source": [
    "X_train_new"
   ]
  },
  {
   "cell_type": "code",
   "execution_count": null,
   "metadata": {
    "collapsed": false
   },
   "outputs": [],
   "source": []
  },
  {
   "cell_type": "code",
   "execution_count": null,
   "metadata": {
    "collapsed": true
   },
   "outputs": [],
   "source": []
  }
 ],
 "metadata": {
  "kernelspec": {
   "display_name": "Python 3",
   "language": "python",
   "name": "python3"
  },
  "language_info": {
   "codemirror_mode": {
    "name": "ipython",
    "version": 3
   },
   "file_extension": ".py",
   "mimetype": "text/x-python",
   "name": "python",
   "nbconvert_exporter": "python",
   "pygments_lexer": "ipython3",
   "version": "3.6.0"
  }
 },
 "nbformat": 4,
 "nbformat_minor": 2
}
