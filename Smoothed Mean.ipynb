{
 "cells": [
  {
   "cell_type": "code",
   "execution_count": 2,
   "metadata": {
    "collapsed": true
   },
   "outputs": [],
   "source": [
    "import pandas as pd\n",
    "import numpy as np\n",
    "np.random.seed(42)"
   ]
  },
  {
   "cell_type": "code",
   "execution_count": null,
   "metadata": {
    "collapsed": true
   },
   "outputs": [],
   "source": [
    "def smoothed_mean(X, y, kf, alpha, global_mean=None, columns=None):\n",
    "\n",
    "    if global_mean is None:\n",
    "        global_mean = np.mean(y)\n",
    "        \n",
    "    if columns is None:\n",
    "        columns = X.columns\n",
    "    \n",
    "    unic_values_X = {}\n",
    "    for column in columns:\n",
    "        X[column + '_agr'] = np.NaN\n",
    "        unic_values_X[column] = set(X[column])\n",
    "            \n",
    "    \n",
    "    for train_indexes, fill_indexes in kf.split(X, y):\n",
    "        for column in columns:\n",
    "            for value in unic_values_X[column]:\n",
    "                slice_train = X.ix[train_indexes][column] == value\n",
    "                n_rows = slice_train.sum()\n",
    "                mean_y = 0\n",
    "                if n_rows > 0:\n",
    "                    mean_y = y[slice_train[slice_train].index].mean()\n",
    "                smoothed_mean = (mean_y * n_rows + global_mean * alpha) / (n_rows + alpha)\n",
    "                \n",
    "                slice_fill = X.ix[fill_indexes][column] == value\n",
    "                slice_fill_indexes = slice_fill[slice_fill].index\n",
    "                X[column + '_agr'][slice_fill_indexes] = smoothed_mean\n",
    "    return X"
   ]
  },
  {
   "cell_type": "code",
   "execution_count": 3,
   "metadata": {
    "collapsed": false
   },
   "outputs": [],
   "source": [
    "train_X = pd.DataFrame(np.random.randint(low=10, size=(10,5)), columns=['a', 'b', 'c', 'd', 'e'])\n",
    "train_y = np.random.binomial(1, 0.7, 10)\n",
    "\n",
    "test_X = pd.DataFrame(np.random.randint(low=10, size=(10,5)), columns=['a', 'b', 'c', 'd', 'e'])\n",
    "test_y = np.random.binomial(1, 0.7, 10)"
   ]
  },
  {
   "cell_type": "code",
   "execution_count": 4,
   "metadata": {
    "collapsed": false
   },
   "outputs": [],
   "source": [
    "alpha = 10\n",
    "global_mean = train_y.mean()\n",
    "columns = ['b', 'd']\n",
    "\n",
    "from sklearn.model_selection import KFold\n",
    "kf = KFold(n_splits=5, shuffle=True, random_state=42)\n",
    "kf_fill = KFold(n_splits=3, shuffle=True, random_state=42)\n",
    "for train_index, test_index in kf.split(train_X, train_y):\n",
    "    \n",
    "    smoothed_mean(X=train_X.ix[train_index], y=train_y[train_index], alpha=alpha, global_mean=global_mean, columns=columns)\n",
    "    \n",
    "    \"\"\"\n",
    "    print('train_X \\n', train_X.ix[train_index])\n",
    "    print('------')\n",
    "    print('train_y \\n', train_y[train_index])\n",
    "    print('------')\n",
    "    print('test_X \\n', train_X.ix[test_index])\n",
    "    print('------')\n",
    "    print('test_y \\n', train_y[test_index])\n",
    "    print('---------------------------------------------------')\n",
    "    \"\"\"\n",
    "    "
   ]
  },
  {
   "cell_type": "code",
   "execution_count": null,
   "metadata": {
    "collapsed": false
   },
   "outputs": [],
   "source": []
  },
  {
   "cell_type": "code",
   "execution_count": null,
   "metadata": {
    "collapsed": false
   },
   "outputs": [],
   "source": []
  },
  {
   "cell_type": "code",
   "execution_count": null,
   "metadata": {
    "collapsed": true
   },
   "outputs": [],
   "source": []
  }
 ],
 "metadata": {
  "kernelspec": {
   "display_name": "Python 3",
   "language": "python",
   "name": "python3"
  },
  "language_info": {
   "codemirror_mode": {
    "name": "ipython",
    "version": 3
   },
   "file_extension": ".py",
   "mimetype": "text/x-python",
   "name": "python",
   "nbconvert_exporter": "python",
   "pygments_lexer": "ipython3",
   "version": "3.6.0"
  }
 },
 "nbformat": 4,
 "nbformat_minor": 2
}
